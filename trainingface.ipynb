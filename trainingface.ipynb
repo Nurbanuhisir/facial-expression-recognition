{
 "cells": [
  {
   "cell_type": "code",
   "execution_count": 1,
   "metadata": {},
   "outputs": [],
   "source": [
    "import numpy as np\n",
    "\n",
    "data=np.load('data.npy')\n",
    "target=np.load('target.npy')\n",
    "\n",
    "#loading the save numpy arrays in the previous code"
   ]
  },
  {
   "cell_type": "code",
   "execution_count": 2,
   "metadata": {},
   "outputs": [
    {
     "name": "stdout",
     "output_type": "stream",
     "text": [
      "[[1. 0. 0. ... 0. 0. 0.]\n",
      " [1. 0. 0. ... 0. 0. 0.]\n",
      " [1. 0. 0. ... 0. 0. 0.]\n",
      " ...\n",
      " [0. 0. 0. ... 0. 0. 1.]\n",
      " [0. 0. 0. ... 0. 0. 1.]\n",
      " [0. 0. 0. ... 0. 0. 1.]]\n"
     ]
    }
   ],
   "source": [
    "print(target)"
   ]
  },
  {
   "cell_type": "code",
   "execution_count": 3,
   "metadata": {},
   "outputs": [
    {
     "data": {
      "text/plain": [
       "<matplotlib.image.AxesImage at 0x21eebbcedc0>"
      ]
     },
     "execution_count": 3,
     "metadata": {},
     "output_type": "execute_result"
    },
    {
     "data": {
      "image/png": "[encoded data removed]",
      "text/plain": [
       "<Figure size 432x288 with 1 Axes>"
      ]
     },
     "metadata": {
      "needs_background": "light"
     },
     "output_type": "display_data"
    }
   ],
   "source": [
    "%matplotlib inline\n",
    "import matplotlib.pyplot as plt\n",
    "plt.imshow(data[8])"
   ]
  },
  {
   "cell_type": "code",
   "execution_count": 4,
   "metadata": {},
   "outputs": [
    {
     "name": "stdout",
     "output_type": "stream",
     "text": [
      "Epoch 1/32\n",
      "225/225 [==============================] - 75s 333ms/step - loss: 1.8145 - accuracy: 0.2508\n",
      "Epoch 2/32\n",
      "225/225 [==============================] - 79s 349ms/step - loss: 1.7890 - accuracy: 0.2561\n",
      "Epoch 3/32\n",
      "225/225 [==============================] - 74s 330ms/step - loss: 1.7709 - accuracy: 0.2649\n",
      "Epoch 4/32\n",
      "225/225 [==============================] - 73s 325ms/step - loss: 1.7485 - accuracy: 0.2740\n",
      "Epoch 5/32\n",
      "225/225 [==============================] - 83s 367ms/step - loss: 1.7292 - accuracy: 0.2890\n",
      "Epoch 6/32\n",
      "225/225 [==============================] - 79s 353ms/step - loss: 1.7081 - accuracy: 0.3035\n",
      "Epoch 7/32\n",
      "225/225 [==============================] - 74s 329ms/step - loss: 1.6763 - accuracy: 0.3202\n",
      "Epoch 8/32\n",
      "225/225 [==============================] - 73s 324ms/step - loss: 1.6570 - accuracy: 0.3293\n",
      "Epoch 9/32\n",
      "225/225 [==============================] - 76s 338ms/step - loss: 1.6291 - accuracy: 0.3459\n",
      "Epoch 10/32\n",
      "225/225 [==============================] - 78s 346ms/step - loss: 1.6129 - accuracy: 0.3533\n",
      "Epoch 11/32\n",
      "225/225 [==============================] - 78s 348ms/step - loss: 1.5922 - accuracy: 0.3687\n",
      "Epoch 12/32\n",
      "225/225 [==============================] - 78s 345ms/step - loss: 1.5653 - accuracy: 0.3813\n",
      "Epoch 13/32\n",
      "225/225 [==============================] - 76s 337ms/step - loss: 1.5550 - accuracy: 0.3859\n",
      "Epoch 14/32\n",
      "225/225 [==============================] - 76s 337ms/step - loss: 1.5388 - accuracy: 0.3961\n",
      "Epoch 15/32\n",
      "225/225 [==============================] - 79s 352ms/step - loss: 1.5178 - accuracy: 0.4038\n",
      "Epoch 16/32\n",
      "225/225 [==============================] - 83s 369ms/step - loss: 1.5042 - accuracy: 0.4122\n",
      "Epoch 17/32\n",
      "225/225 [==============================] - 107s 475ms/step - loss: 1.4834 - accuracy: 0.4214\n",
      "Epoch 18/32\n",
      "225/225 [==============================] - 83s 370ms/step - loss: 1.4677 - accuracy: 0.4276\n",
      "Epoch 19/32\n",
      "225/225 [==============================] - 76s 336ms/step - loss: 1.4536 - accuracy: 0.4364\n",
      "Epoch 20/32\n",
      "225/225 [==============================] - 77s 340ms/step - loss: 1.4346 - accuracy: 0.4390\n",
      "Epoch 21/32\n",
      "225/225 [==============================] - 76s 337ms/step - loss: 1.4153 - accuracy: 0.4481\n",
      "Epoch 22/32\n",
      "225/225 [==============================] - 76s 338ms/step - loss: 1.3973 - accuracy: 0.4575\n",
      "Epoch 23/32\n",
      "225/225 [==============================] - 78s 345ms/step - loss: 1.3838 - accuracy: 0.4614\n",
      "Epoch 24/32\n",
      "225/225 [==============================] - 76s 340ms/step - loss: 1.3560 - accuracy: 0.4749\n",
      "Epoch 25/32\n",
      "225/225 [==============================] - 78s 345ms/step - loss: 1.3325 - accuracy: 0.4840\n",
      "Epoch 26/32\n",
      "225/225 [==============================] - 81s 362ms/step - loss: 1.3155 - accuracy: 0.4897\n",
      "Epoch 27/32\n",
      "225/225 [==============================] - 79s 349ms/step - loss: 1.2916 - accuracy: 0.5048\n",
      "Epoch 28/32\n",
      "225/225 [==============================] - 73s 324ms/step - loss: 1.2658 - accuracy: 0.5131\n",
      "Epoch 29/32\n",
      "225/225 [==============================] - 79s 351ms/step - loss: 1.2499 - accuracy: 0.5200\n",
      "Epoch 30/32\n",
      "225/225 [==============================] - 80s 357ms/step - loss: 1.2251 - accuracy: 0.5325\n",
      "Epoch 31/32\n",
      "225/225 [==============================] - 74s 331ms/step - loss: 1.1961 - accuracy: 0.5416\n",
      "Epoch 32/32\n",
      "225/225 [==============================] - 73s 324ms/step - loss: 1.1678 - accuracy: 0.5547\n"
     ]
    }
   ],
   "source": [
    "import seaborn as sns\n",
    "from keras import models\n",
    "from keras import layers\n",
    "from keras import optimizers\n",
    "import keras\n",
    "\n",
    "model_1 = models.Sequential()\n",
    "\n",
    "# Conv (evrişim katmanı)\n",
    "model_1.add(layers.Conv2D(64, (5, 5), activation='relu'))\n",
    "#Ortaklama katmanı\n",
    "model_1.add(layers.MaxPooling2D(pool_size=(5,5), strides=(2, 2)))\n",
    "\n",
    "model_1.add(layers.Conv2D(64, (3, 3), activation='relu'))\n",
    "model_1.add(layers.Conv2D(64, (3, 3), activation='relu'))\n",
    "model_1.add(layers.AveragePooling2D(pool_size=(3,3), strides=(2, 2)))\n",
    "\n",
    "model_1.add(layers.Conv2D(128, (3, 3), activation='relu'))\n",
    "model_1.add(layers.Conv2D(128, (3, 3), activation='relu'))\n",
    "model_1.add(layers.AveragePooling2D(pool_size=(3,3), strides=(2, 2)))\n",
    "\n",
    "model_1.add(layers.Flatten())\n",
    "\n",
    "# Tam bağlantı katmanı\n",
    "model_1.add(layers.Dense(1024, activation='relu'))\n",
    "model_1.add(layers.Dropout(0.2))\n",
    "model_1.add(layers.Dense(1024, activation='relu'))\n",
    "model_1.add(layers.Dropout(0.2))\n",
    "\n",
    "model_1.add(layers.Dense(7, activation='softmax'))\n",
    "fit = True #Train etmek için fit=True olarak değiştir\n",
    "\n",
    "\n",
    "\n",
    "\n",
    "\n",
    "\n",
    "model_1.compile(loss='categorical_crossentropy'\n",
    "\n",
    "    , optimizer=keras.optimizers.Adam()\n",
    "\n",
    "    , metrics=['accuracy']\n",
    "\n",
    ")\n",
    "\n",
    "\n",
    "\n",
    "\n",
    "if fit == True:\n",
    "\n",
    "  model_1.fit(data,target,batch_size=128,epochs = 32)\n",
    "\n",
    "  #model.fit_generator(x_train, y_train, steps_per_epoch=batch_size,epochs=epochs) #Tüm veri kümesi için eğit\n",
    "\n",
    "  #model.fit_generator(train_generator, steps_per_epoch=batch_size, epochs=epochs) #rastgele bir eğtiim yap\n",
    "\n",
    "else:\n",
    "\n",
    "  model_1.load_weights(root + 'fer2013/facial_expression_model_weights.h5') #Öğrenilmiş ağırlıkları yükle"
   ]
  },
  {
   "cell_type": "code",
   "execution_count": 5,
   "metadata": {},
   "outputs": [],
   "source": [
    "from sklearn.model_selection import train_test_split\n",
    "\n",
    "train_data,test_data,train_target,test_target=train_test_split(data,target,test_size=0.1)"
   ]
  },
  {
   "cell_type": "code",
   "execution_count": 6,
   "metadata": {},
   "outputs": [
    {
     "ename": "NameError",
     "evalue": "name 'history' is not defined",
     "output_type": "error",
     "traceback": [
      "\u001b[1;31m---------------------------------------------------------------------------\u001b[0m",
      "\u001b[1;31mNameError\u001b[0m                                 Traceback (most recent call last)",
      "\u001b[1;32m<ipython-input-6-5d92076fe24c>\u001b[0m in \u001b[0;36m<module>\u001b[1;34m\u001b[0m\n\u001b[0;32m      1\u001b[0m \u001b[1;32mfrom\u001b[0m \u001b[0mmatplotlib\u001b[0m \u001b[1;32mimport\u001b[0m \u001b[0mpyplot\u001b[0m \u001b[1;32mas\u001b[0m \u001b[0mplt\u001b[0m\u001b[1;33m\u001b[0m\u001b[1;33m\u001b[0m\u001b[0m\n\u001b[0;32m      2\u001b[0m \u001b[1;33m\u001b[0m\u001b[0m\n\u001b[1;32m----> 3\u001b[1;33m \u001b[0mplt\u001b[0m\u001b[1;33m.\u001b[0m\u001b[0mplot\u001b[0m\u001b[1;33m(\u001b[0m\u001b[0mhistory\u001b[0m\u001b[1;33m.\u001b[0m\u001b[0mhistory\u001b[0m\u001b[1;33m[\u001b[0m\u001b[1;34m'loss'\u001b[0m\u001b[1;33m]\u001b[0m\u001b[1;33m,\u001b[0m\u001b[1;34m'r'\u001b[0m\u001b[1;33m,\u001b[0m\u001b[0mlabel\u001b[0m\u001b[1;33m=\u001b[0m\u001b[1;34m'training loss'\u001b[0m\u001b[1;33m)\u001b[0m\u001b[1;33m\u001b[0m\u001b[1;33m\u001b[0m\u001b[0m\n\u001b[0m\u001b[0;32m      4\u001b[0m \u001b[0mplt\u001b[0m\u001b[1;33m.\u001b[0m\u001b[0mplot\u001b[0m\u001b[1;33m(\u001b[0m\u001b[0mhistory\u001b[0m\u001b[1;33m.\u001b[0m\u001b[0mhistory\u001b[0m\u001b[1;33m[\u001b[0m\u001b[1;34m'val_loss'\u001b[0m\u001b[1;33m]\u001b[0m\u001b[1;33m,\u001b[0m\u001b[0mlabel\u001b[0m\u001b[1;33m=\u001b[0m\u001b[1;34m'validation loss'\u001b[0m\u001b[1;33m)\u001b[0m\u001b[1;33m\u001b[0m\u001b[1;33m\u001b[0m\u001b[0m\n\u001b[0;32m      5\u001b[0m \u001b[0mplt\u001b[0m\u001b[1;33m.\u001b[0m\u001b[0mxlabel\u001b[0m\u001b[1;33m(\u001b[0m\u001b[1;34m'# epochs'\u001b[0m\u001b[1;33m)\u001b[0m\u001b[1;33m\u001b[0m\u001b[1;33m\u001b[0m\u001b[0m\n",
      "\u001b[1;31mNameError\u001b[0m: name 'history' is not defined"
     ]
    }
   ],
   "source": [
    "from matplotlib import pyplot as plt\n",
    "\n",
    "plt.plot(history.history['loss'],'r',label='training loss')\n",
    "plt.plot(history.history['val_loss'],label='validation loss')\n",
    "plt.xlabel('# epochs')\n",
    "plt.ylabel('loss')\n",
    "plt.legend()\n",
    "plt.show()"
   ]
  },
  {
   "cell_type": "code",
   "execution_count": null,
   "metadata": {},
   "outputs": [],
   "source": [
    "plt.plot(history.history['accuracy'],'r',label='training accuracy')\n",
    "plt.plot(history.history['val_accuracy'],label='validation accuracy')\n",
    "plt.xlabel('# epochs')\n",
    "plt.ylabel('loss')\n",
    "plt.legend()\n",
    "plt.show()"
   ]
  },
  {
   "cell_type": "code",
   "execution_count": null,
   "metadata": {},
   "outputs": [],
   "source": [
    "print(model.evaluate(test_data,test_target))"
   ]
  }
 ],
 "metadata": {
  "kernelspec": {
   "display_name": "Python 3",
   "language": "python",
   "name": "python3"
  },
  "language_info": {
   "codemirror_mode": {
    "name": "ipython",
    "version": 3
   },
   "file_extension": ".py",
   "mimetype": "text/x-python",
   "name": "python",
   "nbconvert_exporter": "python",
   "pygments_lexer": "ipython3",
   "version": "3.8.5"
  }
 },
 "nbformat": 4,
 "nbformat_minor": 2
}
