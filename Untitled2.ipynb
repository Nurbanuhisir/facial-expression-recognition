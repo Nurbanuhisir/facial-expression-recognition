{
 "cells": [
  {
   "cell_type": "code",
   "execution_count": 1,
   "metadata": {},
   "outputs": [],
   "source": [
    "import numpy as np\n",
    "\n",
    "data1=np.load('data1.npy')\n",
    "target1=np.load('target1.npy')\n",
    "\n",
    "#loading the save numpy arrays in the previous code"
   ]
  },
  {
   "cell_type": "code",
   "execution_count": 2,
   "metadata": {},
   "outputs": [
    {
     "name": "stdout",
     "output_type": "stream",
     "text": [
      "[[1. 0. 0. ... 0. 0. 0.]\n",
      " [1. 0. 0. ... 0. 0. 0.]\n",
      " [1. 0. 0. ... 0. 0. 0.]\n",
      " ...\n",
      " [0. 0. 0. ... 0. 0. 1.]\n",
      " [0. 0. 0. ... 0. 0. 1.]\n",
      " [0. 0. 0. ... 0. 0. 1.]]\n"
     ]
    }
   ],
   "source": [
    "print(target1)"
   ]
  },
  {
   "cell_type": "code",
   "execution_count": 3,
   "metadata": {},
   "outputs": [
    {
     "data": {
      "text/plain": [
       "<matplotlib.image.AxesImage at 0x1d4b58eebb0>"
      ]
     },
     "execution_count": 3,
     "metadata": {},
     "output_type": "execute_result"
    },
    {
     "data": {
      "image/png": "[encoded data removed]",
      "text/plain": [
       "<Figure size 432x288 with 1 Axes>"
      ]
     },
     "metadata": {
      "needs_background": "light"
     },
     "output_type": "display_data"
    }
   ],
   "source": [
    "%matplotlib inline\n",
    "import matplotlib.pyplot as plt\n",
    "plt.imshow(data1[8])"
   ]
  },
  {
   "cell_type": "code",
   "execution_count": 4,
   "metadata": {},
   "outputs": [
    {
     "name": "stdout",
     "output_type": "stream",
     "text": [
      "Epoch 1/32\n",
      "225/225 [==============================] - 74s 328ms/step - loss: 1.7258 - accuracy: 0.2967\n",
      "Epoch 2/32\n",
      "225/225 [==============================] - 76s 339ms/step - loss: 1.5539 - accuracy: 0.3904\n",
      "Epoch 3/32\n",
      "225/225 [==============================] - 75s 334ms/step - loss: 1.4876 - accuracy: 0.4242\n",
      "Epoch 4/32\n",
      "225/225 [==============================] - 76s 336ms/step - loss: 1.4419 - accuracy: 0.4459\n",
      "Epoch 5/32\n",
      "225/225 [==============================] - 74s 330ms/step - loss: 1.3964 - accuracy: 0.4612\n",
      "Epoch 6/32\n",
      "225/225 [==============================] - 75s 333ms/step - loss: 1.3613 - accuracy: 0.4758\n",
      "Epoch 7/32\n",
      "225/225 [==============================] - 76s 338ms/step - loss: 1.3340 - accuracy: 0.4846\n",
      "Epoch 8/32\n",
      "225/225 [==============================] - 74s 327ms/step - loss: 1.3002 - accuracy: 0.5011\n",
      "Epoch 9/32\n",
      "225/225 [==============================] - 74s 329ms/step - loss: 1.2739 - accuracy: 0.5126\n",
      "Epoch 10/32\n",
      "225/225 [==============================] - 75s 332ms/step - loss: 1.2446 - accuracy: 0.5229\n",
      "Epoch 11/32\n",
      "225/225 [==============================] - 75s 334ms/step - loss: 1.2198 - accuracy: 0.5322\n",
      "Epoch 12/32\n",
      "225/225 [==============================] - 73s 323ms/step - loss: 1.1949 - accuracy: 0.5397\n",
      "Epoch 13/32\n",
      "225/225 [==============================] - 76s 336ms/step - loss: 1.1606 - accuracy: 0.5547\n",
      "Epoch 14/32\n",
      "225/225 [==============================] - 74s 328ms/step - loss: 1.1310 - accuracy: 0.5684\n",
      "Epoch 15/32\n",
      "225/225 [==============================] - 75s 331ms/step - loss: 1.0961 - accuracy: 0.5837\n",
      "Epoch 16/32\n",
      "225/225 [==============================] - 84s 371ms/step - loss: 1.0624 - accuracy: 0.5960\n",
      "Epoch 17/32\n",
      "225/225 [==============================] - 85s 379ms/step - loss: 1.0271 - accuracy: 0.6089\n",
      "Epoch 18/32\n",
      "225/225 [==============================] - 85s 377ms/step - loss: 0.9980 - accuracy: 0.6241\n",
      "Epoch 19/32\n",
      "225/225 [==============================] - 85s 376ms/step - loss: 0.9617 - accuracy: 0.6357\n",
      "Epoch 20/32\n",
      "225/225 [==============================] - 85s 376ms/step - loss: 0.9357 - accuracy: 0.6478\n",
      "Epoch 21/32\n",
      "225/225 [==============================] - 257s 1s/step - loss: 0.8920 - accuracy: 0.6642\n",
      "Epoch 22/32\n",
      "225/225 [==============================] - 74s 330ms/step - loss: 0.8401 - accuracy: 0.6812\n",
      "Epoch 23/32\n",
      "225/225 [==============================] - 68s 304ms/step - loss: 0.8057 - accuracy: 0.6962\n",
      "Epoch 24/32\n",
      "225/225 [==============================] - 68s 302ms/step - loss: 0.7713 - accuracy: 0.7083\n",
      "Epoch 25/32\n",
      "225/225 [==============================] - 69s 305ms/step - loss: 0.7344 - accuracy: 0.7240\n",
      "Epoch 26/32\n",
      "225/225 [==============================] - 69s 306ms/step - loss: 0.6774 - accuracy: 0.7436\n",
      "Epoch 27/32\n",
      "225/225 [==============================] - 69s 307ms/step - loss: 0.6594 - accuracy: 0.7540\n",
      "Epoch 28/32\n",
      "225/225 [==============================] - 70s 313ms/step - loss: 0.6103 - accuracy: 0.7706\n",
      "Epoch 29/32\n",
      "225/225 [==============================] - 75s 333ms/step - loss: 0.5805 - accuracy: 0.7808\n",
      "Epoch 30/32\n",
      "225/225 [==============================] - 69s 306ms/step - loss: 0.5388 - accuracy: 0.7976\n",
      "Epoch 31/32\n",
      "225/225 [==============================] - 69s 308ms/step - loss: 0.5197 - accuracy: 0.8033\n",
      "Epoch 32/32\n",
      "225/225 [==============================] - 69s 305ms/step - loss: 0.4632 - accuracy: 0.8268\n"
     ]
    }
   ],
   "source": [
    "import seaborn as sns\n",
    "from keras import models\n",
    "from keras import layers\n",
    "from keras import optimizers\n",
    "import keras\n",
    "\n",
    "model_2 = models.Sequential()\n",
    "\n",
    "# Conv (evrişim katmanı)\n",
    "model_2.add(layers.Conv2D(64, (5, 5), activation='relu'))\n",
    "#Ortaklama katmanı\n",
    "model_2.add(layers.MaxPooling2D(pool_size=(5,5), strides=(2, 2)))\n",
    "\n",
    "model_2.add(layers.Conv2D(64, (3, 3), activation='relu'))\n",
    "model_2.add(layers.Conv2D(64, (3, 3), activation='relu'))\n",
    "model_2.add(layers.AveragePooling2D(pool_size=(3,3), strides=(2, 2)))\n",
    "\n",
    "model_2.add(layers.Conv2D(128, (3, 3), activation='relu'))\n",
    "model_2.add(layers.Conv2D(128, (3, 3), activation='relu'))\n",
    "model_2.add(layers.AveragePooling2D(pool_size=(3,3), strides=(2, 2)))\n",
    "\n",
    "model_2.add(layers.Flatten())\n",
    "\n",
    "# Tam bağlantı katmanı\n",
    "model_2.add(layers.Dense(1024, activation='relu'))\n",
    "model_2.add(layers.Dropout(0.2))\n",
    "model_2.add(layers.Dense(1024, activation='relu'))\n",
    "model_2.add(layers.Dropout(0.2))\n",
    "\n",
    "model_2.add(layers.Dense(7, activation='softmax'))\n",
    "fit = True #Train etmek için fit=True olarak değiştir\n",
    "\n",
    "\n",
    "\n",
    "\n",
    "\n",
    "\n",
    "model_2.compile(loss='categorical_crossentropy'\n",
    "\n",
    "    , optimizer=keras.optimizers.Adam()\n",
    "\n",
    "    , metrics=['accuracy']\n",
    "\n",
    ")\n",
    "\n",
    "\n",
    "\n",
    "\n",
    "if fit == True:\n",
    "\n",
    "  model_2.fit(data1,target1,batch_size=128,epochs = 32)\n",
    "\n",
    "  #model.fit_generator(x_train, y_train, steps_per_epoch=batch_size,epochs=epochs) #Tüm veri kümesi için eğit\n",
    "\n",
    "  #model.fit_generator(train_generator, steps_per_epoch=batch_size, epochs=epochs) #rastgele bir eğtiim yap\n",
    "\n",
    "else:\n",
    "\n",
    "  model_2.load_weights(root + 'fer2013/facial_expression_model_weights.h5') #Öğrenilmiş ağırlıkları yükle"
   ]
  },
  {
   "cell_type": "code",
   "execution_count": null,
   "metadata": {},
   "outputs": [],
   "source": []
  },
  {
   "cell_type": "code",
   "execution_count": null,
   "metadata": {},
   "outputs": [],
   "source": []
  }
 ],
 "metadata": {
  "kernelspec": {
   "display_name": "Python 3",
   "language": "python",
   "name": "python3"
  },
  "language_info": {
   "codemirror_mode": {
    "name": "ipython",
    "version": 3
   },
   "file_extension": ".py",
   "mimetype": "text/x-python",
   "name": "python",
   "nbconvert_exporter": "python",
   "pygments_lexer": "ipython3",
   "version": "3.8.5"
  }
 },
 "nbformat": 4,
 "nbformat_minor": 4
}
