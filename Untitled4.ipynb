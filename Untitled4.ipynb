{
 "cells": [
  {
   "cell_type": "code",
   "execution_count": 1,
   "metadata": {},
   "outputs": [],
   "source": [
    "import numpy as np\n",
    "\n",
    "data2=np.load('data2.npy')\n",
    "target2=np.load('target2.npy')\n",
    "\n",
    "#loading the save numpy arrays in the previous code"
   ]
  },
  {
   "cell_type": "code",
   "execution_count": 2,
   "metadata": {},
   "outputs": [
    {
     "name": "stdout",
     "output_type": "stream",
     "text": [
      "[[1. 0. 0. ... 0. 0. 0.]\n",
      " [1. 0. 0. ... 0. 0. 0.]\n",
      " [1. 0. 0. ... 0. 0. 0.]\n",
      " ...\n",
      " [0. 0. 0. ... 0. 0. 1.]\n",
      " [0. 0. 0. ... 0. 0. 1.]\n",
      " [0. 0. 0. ... 0. 0. 1.]]\n"
     ]
    }
   ],
   "source": [
    "print(target2)"
   ]
  },
  {
   "cell_type": "code",
   "execution_count": 3,
   "metadata": {},
   "outputs": [
    {
     "data": {
      "text/plain": [
       "<matplotlib.image.AxesImage at 0x19875521af0>"
      ]
     },
     "execution_count": 3,
     "metadata": {},
     "output_type": "execute_result"
    },
    {
     "data": {
      "image/png": "[encoded data removed]",
      "text/plain": [
       "<Figure size 432x288 with 1 Axes>"
      ]
     },
     "metadata": {
      "needs_background": "light"
     },
     "output_type": "display_data"
    }
   ],
   "source": [
    "%matplotlib inline\n",
    "import matplotlib.pyplot as plt\n",
    "plt.imshow(data2[8])"
   ]
  },
  {
   "cell_type": "code",
   "execution_count": 4,
   "metadata": {},
   "outputs": [
    {
     "name": "stdout",
     "output_type": "stream",
     "text": [
      "Epoch 1/32\n",
      "225/225 [==============================] - 56s 248ms/step - loss: 1.8163 - accuracy: 0.2500\n",
      "Epoch 2/32\n",
      "225/225 [==============================] - 61s 273ms/step - loss: 1.7420 - accuracy: 0.2853\n",
      "Epoch 3/32\n",
      "225/225 [==============================] - 68s 302ms/step - loss: 1.6122 - accuracy: 0.3591\n",
      "Epoch 4/32\n",
      "225/225 [==============================] - 68s 304ms/step - loss: 1.5239 - accuracy: 0.4045\n",
      "Epoch 5/32\n",
      "225/225 [==============================] - 70s 310ms/step - loss: 1.4488 - accuracy: 0.4396\n",
      "Epoch 6/32\n",
      "225/225 [==============================] - 71s 317ms/step - loss: 1.3761 - accuracy: 0.4724\n",
      "Epoch 7/32\n",
      "225/225 [==============================] - 69s 308ms/step - loss: 1.3258 - accuracy: 0.4920\n",
      "Epoch 8/32\n",
      "225/225 [==============================] - 70s 309ms/step - loss: 1.2792 - accuracy: 0.5105\n",
      "Epoch 9/32\n",
      "225/225 [==============================] - 69s 307ms/step - loss: 1.2410 - accuracy: 0.5258\n",
      "Epoch 10/32\n",
      "225/225 [==============================] - 70s 312ms/step - loss: 1.2042 - accuracy: 0.5418\n",
      "Epoch 11/32\n",
      "225/225 [==============================] - 70s 310ms/step - loss: 1.1649 - accuracy: 0.5564\n",
      "Epoch 12/32\n",
      "225/225 [==============================] - 69s 308ms/step - loss: 1.1470 - accuracy: 0.5665\n",
      "Epoch 13/32\n",
      "225/225 [==============================] - 72s 320ms/step - loss: 1.1139 - accuracy: 0.5801\n",
      "Epoch 14/32\n",
      "225/225 [==============================] - 69s 305ms/step - loss: 1.0892 - accuracy: 0.5863\n",
      "Epoch 15/32\n",
      "225/225 [==============================] - 69s 309ms/step - loss: 1.0564 - accuracy: 0.6010\n",
      "Epoch 16/32\n",
      "225/225 [==============================] - 69s 306ms/step - loss: 1.0247 - accuracy: 0.6135\n",
      "Epoch 17/32\n",
      "225/225 [==============================] - 70s 312ms/step - loss: 1.0014 - accuracy: 0.6223\n",
      "Epoch 18/32\n",
      "225/225 [==============================] - 69s 307ms/step - loss: 0.9772 - accuracy: 0.6309\n",
      "Epoch 19/32\n",
      "225/225 [==============================] - 69s 307ms/step - loss: 0.9548 - accuracy: 0.6438\n",
      "Epoch 20/32\n",
      "225/225 [==============================] - 69s 306ms/step - loss: 0.9203 - accuracy: 0.6569\n",
      "Epoch 21/32\n",
      "225/225 [==============================] - 70s 312ms/step - loss: 0.8945 - accuracy: 0.6691\n",
      "Epoch 22/32\n",
      "225/225 [==============================] - 69s 308ms/step - loss: 0.8667 - accuracy: 0.6766\n",
      "Epoch 23/32\n",
      "225/225 [==============================] - 69s 306ms/step - loss: 0.8434 - accuracy: 0.6833\n",
      "Epoch 24/32\n",
      "225/225 [==============================] - 69s 308ms/step - loss: 0.8179 - accuracy: 0.6941\n",
      "Epoch 25/32\n",
      "225/225 [==============================] - 69s 306ms/step - loss: 0.7801 - accuracy: 0.7116\n",
      "Epoch 26/32\n",
      "225/225 [==============================] - 69s 309ms/step - loss: 0.7569 - accuracy: 0.7186\n",
      "Epoch 27/32\n",
      "225/225 [==============================] - 70s 310ms/step - loss: 0.7253 - accuracy: 0.7301\n",
      "Epoch 28/32\n",
      "225/225 [==============================] - 70s 313ms/step - loss: 0.6966 - accuracy: 0.7418\n",
      "Epoch 29/32\n",
      "225/225 [==============================] - 73s 323ms/step - loss: 0.6700 - accuracy: 0.7517\n",
      "Epoch 30/32\n",
      "225/225 [==============================] - 72s 320ms/step - loss: 0.6501 - accuracy: 0.7567\n",
      "Epoch 31/32\n",
      "225/225 [==============================] - 70s 309ms/step - loss: 0.6227 - accuracy: 0.7702\n",
      "Epoch 32/32\n",
      "225/225 [==============================] - 69s 306ms/step - loss: 0.5845 - accuracy: 0.7809\n"
     ]
    }
   ],
   "source": [
    "import seaborn as sns\n",
    "from keras import models\n",
    "from keras import layers\n",
    "from keras import optimizers\n",
    "import keras\n",
    "\n",
    "model_3 = models.Sequential()\n",
    "\n",
    "# Conv (evrişim katmanı)\n",
    "model_3.add(layers.Conv2D(64, (5, 5), activation='relu'))\n",
    "#Ortaklama katmanı\n",
    "model_3.add(layers.MaxPooling2D(pool_size=(5,5), strides=(2, 2)))\n",
    "\n",
    "model_3.add(layers.Conv2D(64, (3, 3), activation='relu'))\n",
    "model_3.add(layers.Conv2D(64, (3, 3), activation='relu'))\n",
    "model_3.add(layers.AveragePooling2D(pool_size=(3,3), strides=(2, 2)))\n",
    "\n",
    "model_3.add(layers.Conv2D(128, (3, 3), activation='relu'))\n",
    "model_3.add(layers.Conv2D(128, (3, 3), activation='relu'))\n",
    "model_3.add(layers.AveragePooling2D(pool_size=(3,3), strides=(2, 2)))\n",
    "\n",
    "model_3.add(layers.Flatten())\n",
    "\n",
    "# Tam bağlantı katmanı\n",
    "model_3.add(layers.Dense(1024, activation='relu'))\n",
    "model_3.add(layers.Dropout(0.2))\n",
    "model_3.add(layers.Dense(1024, activation='relu'))\n",
    "model_3.add(layers.Dropout(0.2))\n",
    "\n",
    "model_3.add(layers.Dense(7, activation='softmax'))\n",
    "fit = True #Train etmek için fit=True olarak değiştir\n",
    "\n",
    "\n",
    "\n",
    "\n",
    "\n",
    "\n",
    "model_3.compile(loss='categorical_crossentropy'\n",
    "\n",
    "    , optimizer=keras.optimizers.Adam()\n",
    "\n",
    "    , metrics=['accuracy']\n",
    "\n",
    ")\n",
    "\n",
    "\n",
    "\n",
    "\n",
    "if fit == True:\n",
    "\n",
    "  model_3.fit(data2,target2,batch_size=128,epochs = 32)\n",
    "\n",
    "  #model.fit_generator(x_train, y_train, steps_per_epoch=batch_size,epochs=epochs) #Tüm veri kümesi için eğit\n",
    "\n",
    "  #model.fit_generator(train_generator, steps_per_epoch=batch_size, epochs=epochs) #rastgele bir eğtiim yap\n",
    "\n",
    "else:\n",
    "\n",
    "  model_3.load_weights(root + 'fer2013/facial_expression_model_weights.h5') #Öğrenilmiş ağırlıkları yükle"
   ]
  },
  {
   "cell_type": "code",
   "execution_count": null,
   "metadata": {},
   "outputs": [],
   "source": []
  }
 ],
 "metadata": {
  "kernelspec": {
   "display_name": "Python 3",
   "language": "python",
   "name": "python3"
  },
  "language_info": {
   "codemirror_mode": {
    "name": "ipython",
    "version": 3
   },
   "file_extension": ".py",
   "mimetype": "text/x-python",
   "name": "python",
   "nbconvert_exporter": "python",
   "pygments_lexer": "ipython3",
   "version": "3.8.5"
  }
 },
 "nbformat": 4,
 "nbformat_minor": 4
}
